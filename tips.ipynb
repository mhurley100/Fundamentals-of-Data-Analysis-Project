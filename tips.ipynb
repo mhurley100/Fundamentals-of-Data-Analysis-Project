{
 "cells": [
  {
   "cell_type": "markdown",
   "metadata": {},
   "source": [
    "# Fundamentals of Data Analysis Assessment 2019 - Tips Dataset "
   ]
  },
  {
   "cell_type": "markdown",
   "metadata": {},
   "source": [
    "## Introduction \n",
    "In the US, the tip rate for restaurants with table service is 15% or more of the total bill, based on the quality of service. If you receive exceptional service, 20-25% is customary[8]. Tips in restaurants are influenced by many factors including type of restaurant, quality of food and most importantly service.  One waiter recorded 244 tips and several variables over a 2.5 month period working in one restaurant. The restaurant located in a suburban shopping mall, was one of a national chain and served a varied menu. In observance of local law the restaurant offered seating in a non-smoking section to patrons who requested it. The data was assigned to those days and during those times when the food server was routinely assigned to work [10].  The data was reported in a collection of case studies for business statistics [9]. \n",
    "\n",
    "Is it possible to isolate the criteria that govern tip rate and increase tips for the waiter? This project interrogates the tips [6] dataset and utilises Python [1], seaborn [5] and jupyter [4] packages to analyse if a variable can be isolated that infuences tip %. "
   ]
  },
  {
   "cell_type": "markdown",
   "metadata": {},
   "source": [
    "## Import libraries"
   ]
  },
  {
   "cell_type": "code",
   "execution_count": 1,
   "metadata": {},
   "outputs": [],
   "source": [
    "# Import numpy, matplotlib, seaborn and pandas\n",
    "import numpy as np\n",
    "import matplotlib as plt\n",
    "import seaborn as sns\n",
    "import pandas as pd"
   ]
  },
  {
   "cell_type": "code",
   "execution_count": 2,
   "metadata": {},
   "outputs": [],
   "source": [
    "# Make matplotlib show interactive plots in the notebook.\n",
    "%matplotlib inline\n",
    "# Apply the default seaborn settings\n",
    "sns.set()"
   ]
  },
  {
   "cell_type": "markdown",
   "metadata": {},
   "source": [
    "## Raw Data"
   ]
  },
  {
   "cell_type": "code",
   "execution_count": 3,
   "metadata": {
    "scrolled": true
   },
   "outputs": [],
   "source": [
    "# Import tips dataset from Seaborn and call it tips\n",
    "tips = sns.load_dataset(\"tips\")"
   ]
  },
  {
   "cell_type": "markdown",
   "metadata": {},
   "source": [
    "### Format of the dataset\n",
    "\n",
    "The below commnd (tips.info) summarises the dataset.  It comprises 244 rows and 7 columns.  \n",
    "\n",
    "4 columns are categories:\n",
    " - sex - Male/Female\n",
    " - smoker - Yes or No\n",
    " - day - Thursday through to Sunday\n",
    " - time - lunch or dinner\n",
    " \n",
    "3 columns are numeric:\n",
    " - total_bill (float)\n",
    " - tip (float)\n",
    " - size (integer)"
   ]
  },
  {
   "cell_type": "code",
   "execution_count": 4,
   "metadata": {},
   "outputs": [
    {
     "name": "stdout",
     "output_type": "stream",
     "text": [
      "<class 'pandas.core.frame.DataFrame'>\n",
      "RangeIndex: 244 entries, 0 to 243\n",
      "Data columns (total 7 columns):\n",
      "total_bill    244 non-null float64\n",
      "tip           244 non-null float64\n",
      "sex           244 non-null category\n",
      "smoker        244 non-null category\n",
      "day           244 non-null category\n",
      "time          244 non-null category\n",
      "size          244 non-null int64\n",
      "dtypes: category(4), float64(2), int64(1)\n",
      "memory usage: 7.3 KB\n"
     ]
    }
   ],
   "source": [
    "# Summarise the Dataframe\n",
    "tips.info()"
   ]
  },
  {
   "cell_type": "code",
   "execution_count": 5,
   "metadata": {},
   "outputs": [
    {
     "data": {
      "text/html": [
       "<div>\n",
       "<style scoped>\n",
       "    .dataframe tbody tr th:only-of-type {\n",
       "        vertical-align: middle;\n",
       "    }\n",
       "\n",
       "    .dataframe tbody tr th {\n",
       "        vertical-align: top;\n",
       "    }\n",
       "\n",
       "    .dataframe thead th {\n",
       "        text-align: right;\n",
       "    }\n",
       "</style>\n",
       "<table border=\"1\" class=\"dataframe\">\n",
       "  <thead>\n",
       "    <tr style=\"text-align: right;\">\n",
       "      <th></th>\n",
       "      <th>total_bill</th>\n",
       "      <th>tip</th>\n",
       "      <th>sex</th>\n",
       "      <th>smoker</th>\n",
       "      <th>day</th>\n",
       "      <th>time</th>\n",
       "      <th>size</th>\n",
       "    </tr>\n",
       "  </thead>\n",
       "  <tbody>\n",
       "    <tr>\n",
       "      <td>0</td>\n",
       "      <td>16.99</td>\n",
       "      <td>1.01</td>\n",
       "      <td>Female</td>\n",
       "      <td>No</td>\n",
       "      <td>Sun</td>\n",
       "      <td>Dinner</td>\n",
       "      <td>2</td>\n",
       "    </tr>\n",
       "    <tr>\n",
       "      <td>1</td>\n",
       "      <td>10.34</td>\n",
       "      <td>1.66</td>\n",
       "      <td>Male</td>\n",
       "      <td>No</td>\n",
       "      <td>Sun</td>\n",
       "      <td>Dinner</td>\n",
       "      <td>3</td>\n",
       "    </tr>\n",
       "    <tr>\n",
       "      <td>2</td>\n",
       "      <td>21.01</td>\n",
       "      <td>3.50</td>\n",
       "      <td>Male</td>\n",
       "      <td>No</td>\n",
       "      <td>Sun</td>\n",
       "      <td>Dinner</td>\n",
       "      <td>3</td>\n",
       "    </tr>\n",
       "    <tr>\n",
       "      <td>3</td>\n",
       "      <td>23.68</td>\n",
       "      <td>3.31</td>\n",
       "      <td>Male</td>\n",
       "      <td>No</td>\n",
       "      <td>Sun</td>\n",
       "      <td>Dinner</td>\n",
       "      <td>2</td>\n",
       "    </tr>\n",
       "    <tr>\n",
       "      <td>4</td>\n",
       "      <td>24.59</td>\n",
       "      <td>3.61</td>\n",
       "      <td>Female</td>\n",
       "      <td>No</td>\n",
       "      <td>Sun</td>\n",
       "      <td>Dinner</td>\n",
       "      <td>4</td>\n",
       "    </tr>\n",
       "    <tr>\n",
       "      <td>...</td>\n",
       "      <td>...</td>\n",
       "      <td>...</td>\n",
       "      <td>...</td>\n",
       "      <td>...</td>\n",
       "      <td>...</td>\n",
       "      <td>...</td>\n",
       "      <td>...</td>\n",
       "    </tr>\n",
       "    <tr>\n",
       "      <td>239</td>\n",
       "      <td>29.03</td>\n",
       "      <td>5.92</td>\n",
       "      <td>Male</td>\n",
       "      <td>No</td>\n",
       "      <td>Sat</td>\n",
       "      <td>Dinner</td>\n",
       "      <td>3</td>\n",
       "    </tr>\n",
       "    <tr>\n",
       "      <td>240</td>\n",
       "      <td>27.18</td>\n",
       "      <td>2.00</td>\n",
       "      <td>Female</td>\n",
       "      <td>Yes</td>\n",
       "      <td>Sat</td>\n",
       "      <td>Dinner</td>\n",
       "      <td>2</td>\n",
       "    </tr>\n",
       "    <tr>\n",
       "      <td>241</td>\n",
       "      <td>22.67</td>\n",
       "      <td>2.00</td>\n",
       "      <td>Male</td>\n",
       "      <td>Yes</td>\n",
       "      <td>Sat</td>\n",
       "      <td>Dinner</td>\n",
       "      <td>2</td>\n",
       "    </tr>\n",
       "    <tr>\n",
       "      <td>242</td>\n",
       "      <td>17.82</td>\n",
       "      <td>1.75</td>\n",
       "      <td>Male</td>\n",
       "      <td>No</td>\n",
       "      <td>Sat</td>\n",
       "      <td>Dinner</td>\n",
       "      <td>2</td>\n",
       "    </tr>\n",
       "    <tr>\n",
       "      <td>243</td>\n",
       "      <td>18.78</td>\n",
       "      <td>3.00</td>\n",
       "      <td>Female</td>\n",
       "      <td>No</td>\n",
       "      <td>Thur</td>\n",
       "      <td>Dinner</td>\n",
       "      <td>2</td>\n",
       "    </tr>\n",
       "  </tbody>\n",
       "</table>\n",
       "<p>244 rows × 7 columns</p>\n",
       "</div>"
      ],
      "text/plain": [
       "     total_bill   tip     sex smoker   day    time  size\n",
       "0         16.99  1.01  Female     No   Sun  Dinner     2\n",
       "1         10.34  1.66    Male     No   Sun  Dinner     3\n",
       "2         21.01  3.50    Male     No   Sun  Dinner     3\n",
       "3         23.68  3.31    Male     No   Sun  Dinner     2\n",
       "4         24.59  3.61  Female     No   Sun  Dinner     4\n",
       "..          ...   ...     ...    ...   ...     ...   ...\n",
       "239       29.03  5.92    Male     No   Sat  Dinner     3\n",
       "240       27.18  2.00  Female    Yes   Sat  Dinner     2\n",
       "241       22.67  2.00    Male    Yes   Sat  Dinner     2\n",
       "242       17.82  1.75    Male     No   Sat  Dinner     2\n",
       "243       18.78  3.00  Female     No  Thur  Dinner     2\n",
       "\n",
       "[244 rows x 7 columns]"
      ]
     },
     "execution_count": 5,
     "metadata": {},
     "output_type": "execute_result"
    }
   ],
   "source": [
    "# Visually view the dataset\n",
    "tips"
   ]
  },
  {
   "cell_type": "markdown",
   "metadata": {},
   "source": [
    "## Descriptive statistics"
   ]
  },
  {
   "cell_type": "code",
   "execution_count": 6,
   "metadata": {},
   "outputs": [
    {
     "data": {
      "text/html": [
       "<div>\n",
       "<style scoped>\n",
       "    .dataframe tbody tr th:only-of-type {\n",
       "        vertical-align: middle;\n",
       "    }\n",
       "\n",
       "    .dataframe tbody tr th {\n",
       "        vertical-align: top;\n",
       "    }\n",
       "\n",
       "    .dataframe thead th {\n",
       "        text-align: right;\n",
       "    }\n",
       "</style>\n",
       "<table border=\"1\" class=\"dataframe\">\n",
       "  <thead>\n",
       "    <tr style=\"text-align: right;\">\n",
       "      <th></th>\n",
       "      <th>total_bill</th>\n",
       "      <th>tip</th>\n",
       "      <th>size</th>\n",
       "    </tr>\n",
       "  </thead>\n",
       "  <tbody>\n",
       "    <tr>\n",
       "      <td>count</td>\n",
       "      <td>244.000000</td>\n",
       "      <td>244.000000</td>\n",
       "      <td>244.000000</td>\n",
       "    </tr>\n",
       "    <tr>\n",
       "      <td>mean</td>\n",
       "      <td>19.785943</td>\n",
       "      <td>2.998279</td>\n",
       "      <td>2.569672</td>\n",
       "    </tr>\n",
       "    <tr>\n",
       "      <td>std</td>\n",
       "      <td>8.902412</td>\n",
       "      <td>1.383638</td>\n",
       "      <td>0.951100</td>\n",
       "    </tr>\n",
       "    <tr>\n",
       "      <td>min</td>\n",
       "      <td>3.070000</td>\n",
       "      <td>1.000000</td>\n",
       "      <td>1.000000</td>\n",
       "    </tr>\n",
       "    <tr>\n",
       "      <td>25%</td>\n",
       "      <td>13.347500</td>\n",
       "      <td>2.000000</td>\n",
       "      <td>2.000000</td>\n",
       "    </tr>\n",
       "    <tr>\n",
       "      <td>50%</td>\n",
       "      <td>17.795000</td>\n",
       "      <td>2.900000</td>\n",
       "      <td>2.000000</td>\n",
       "    </tr>\n",
       "    <tr>\n",
       "      <td>75%</td>\n",
       "      <td>24.127500</td>\n",
       "      <td>3.562500</td>\n",
       "      <td>3.000000</td>\n",
       "    </tr>\n",
       "    <tr>\n",
       "      <td>max</td>\n",
       "      <td>50.810000</td>\n",
       "      <td>10.000000</td>\n",
       "      <td>6.000000</td>\n",
       "    </tr>\n",
       "  </tbody>\n",
       "</table>\n",
       "</div>"
      ],
      "text/plain": [
       "       total_bill         tip        size\n",
       "count  244.000000  244.000000  244.000000\n",
       "mean    19.785943    2.998279    2.569672\n",
       "std      8.902412    1.383638    0.951100\n",
       "min      3.070000    1.000000    1.000000\n",
       "25%     13.347500    2.000000    2.000000\n",
       "50%     17.795000    2.900000    2.000000\n",
       "75%     24.127500    3.562500    3.000000\n",
       "max     50.810000   10.000000    6.000000"
      ]
     },
     "execution_count": 6,
     "metadata": {},
     "output_type": "execute_result"
    }
   ],
   "source": [
    "# Describe the dataset using pandas describe()\n",
    "tips.describe()"
   ]
  },
  {
   "cell_type": "markdown",
   "metadata": {},
   "source": [
    "### Observations of the dataset\n",
    "\n",
    " - All groups paid a tip\n",
    " - The average bill is 19.79  \n",
    " - The average tip is 3.00 which equates to 15.2%\n",
    " - Minimum tip is 1.00 \n",
    " - Maximum tip is 10.0\n",
    " - Average party size is 2.5\n",
    "\n",
    "The restaurant appears to be inexpensive with an average bill of 19.79.  Average tip is 15.2 % which is representative of the cultural expectation of 15%.  The scatterplot below also demonstrates the correlation visually - the values are are centred around the mean."
   ]
  },
  {
   "cell_type": "code",
   "execution_count": 7,
   "metadata": {},
   "outputs": [
    {
     "data": {
      "text/plain": [
       "<seaborn.axisgrid.FacetGrid at 0x2867d49f288>"
      ]
     },
     "execution_count": 7,
     "metadata": {},
     "output_type": "execute_result"
    },
    {
     "data": {
      "image/png": "[encoded data removed]",
      "text/plain": [
       "<Figure size 360x360 with 1 Axes>"
      ]
     },
     "metadata": {},
     "output_type": "display_data"
    }
   ],
   "source": [
    "# Plot a scatterplot to include a linear regression model (and its uncertainty) using lmplot()\n",
    "# Modified from https://seaborn.pydata.org/introduction.html\n",
    "sns.lmplot(x=\"total_bill\", y=\"tip\", data=tips)"
   ]
  },
  {
   "cell_type": "markdown",
   "metadata": {},
   "source": [
    "### Correlation of Total Bill versus Tip\n",
    "One way to categorically determine the correlation between total bill and tip received is to include a target tip.  Target tip is 15%.  This will highlight if customers paid the expected tip."
   ]
  },
  {
   "cell_type": "code",
   "execution_count": 8,
   "metadata": {},
   "outputs": [],
   "source": [
    "# Create a  new variable - tip target\n",
    "tips[\"tip_t\"] = tips[\"total_bill\"] * .15"
   ]
  },
  {
   "cell_type": "markdown",
   "metadata": {},
   "source": [
    "The plot below demonstrates the correlation between tip and target tip.  The values are clustered around 15% - there are many tips on either side of the 15% but the relationship cannot be denied. There is a definitive relationship between total bill and tip.  There are a few tips that are out of sync with the rest of the population but these could be viewed as outliers. Other variables now need to be brought to determine if they have an influencing factor."
   ]
  },
  {
   "cell_type": "code",
   "execution_count": 9,
   "metadata": {},
   "outputs": [
    {
     "data": {
      "text/plain": [
       "<matplotlib.axes._subplots.AxesSubplot at 0x2867e7aafc8>"
      ]
     },
     "execution_count": 9,
     "metadata": {},
     "output_type": "execute_result"
    },
    {
     "data": {
      "image/png": "[encoded data removed]",
      "text/plain": [
       "<Figure size 432x288 with 1 Axes>"
      ]
     },
     "metadata": {},
     "output_type": "display_data"
    }
   ],
   "source": [
    "# Modified from https://seaborn.pydata.org/introduction.html\n",
    "sns.regplot(x=\"tip\", y=\"tip_t\", data=tips)"
   ]
  },
  {
   "cell_type": "markdown",
   "metadata": {},
   "source": [
    "## Regression"
   ]
  },
  {
   "cell_type": "markdown",
   "metadata": {},
   "source": [
    "Regression analysis is a way of mathematically sorting out which variables have an impact[11].  The initial analysis above demonstrates that there is a clear correlation between total bill and tip amount.   Tipping is ingrained into the American culture and that is displayed above as all customers paid a tip.  However we need to dig a bit deeper and investigate if any underlying trends or dynamics influenced the tip received. All four categories (sex, smoker, day & time) are sliced in order to provide insights."
   ]
  },
  {
   "cell_type": "markdown",
   "metadata": {},
   "source": [
    "### Slice the Data by  Day and Time\n",
    "Pandas[7] groupby function is used to slice the data below.  The following is observed:\n",
    "\n",
    "#### Group size\n",
    "\n",
    " - Thursday is the busiest day for lunch with 61 groups served.  \n",
    " - Only 7 groups had lunch on Friday. \n",
    " - No one was served lunch Saturday or Sunday.\n",
    " - Thursday dinner only had one group.  ### Slice the Data by  Day and Time\n",
    "\n",
    "#### Group tips\n",
    " - 168.83 received in tips on Thurday lunchtime versus a target of 161.63.  \n",
    " - 260.40 and 247.39 received for Saturday and Sunday dinner versus targets of 266.76 and 244.07 respectively.\n",
    " \n",
    " - No one was served lunch Saturday or Sunday meaning the server received no tips. \n",
    " - Saturday and Sunday are the busiest times for dinner with 87 and 76 groups served respectively. "
   ]
  },
  {
   "cell_type": "code",
   "execution_count": 10,
   "metadata": {},
   "outputs": [
    {
     "data": {
      "text/plain": [
       "time    day \n",
       "Lunch   Thur    61\n",
       "        Fri      7\n",
       "Dinner  Thur     1\n",
       "        Fri     12\n",
       "        Sat     87\n",
       "        Sun     76\n",
       "dtype: int64"
      ]
     },
     "execution_count": 10,
     "metadata": {},
     "output_type": "execute_result"
    }
   ],
   "source": [
    "# Split the groups by day and time using groupby\n",
    "tips.groupby(['time', 'day']).size()"
   ]
  },
  {
   "cell_type": "code",
   "execution_count": 11,
   "metadata": {},
   "outputs": [
    {
     "data": {
      "text/html": [
       "<div>\n",
       "<style scoped>\n",
       "    .dataframe tbody tr th:only-of-type {\n",
       "        vertical-align: middle;\n",
       "    }\n",
       "\n",
       "    .dataframe tbody tr th {\n",
       "        vertical-align: top;\n",
       "    }\n",
       "\n",
       "    .dataframe thead th {\n",
       "        text-align: right;\n",
       "    }\n",
       "</style>\n",
       "<table border=\"1\" class=\"dataframe\">\n",
       "  <thead>\n",
       "    <tr style=\"text-align: right;\">\n",
       "      <th></th>\n",
       "      <th></th>\n",
       "      <th>total_bill</th>\n",
       "      <th>tip</th>\n",
       "      <th>size</th>\n",
       "      <th>tip_t</th>\n",
       "    </tr>\n",
       "    <tr>\n",
       "      <th>day</th>\n",
       "      <th>time</th>\n",
       "      <th></th>\n",
       "      <th></th>\n",
       "      <th></th>\n",
       "      <th></th>\n",
       "    </tr>\n",
       "  </thead>\n",
       "  <tbody>\n",
       "    <tr>\n",
       "      <td rowspan=\"2\" valign=\"top\">Thur</td>\n",
       "      <td>Lunch</td>\n",
       "      <td>1077.55</td>\n",
       "      <td>168.83</td>\n",
       "      <td>150.0</td>\n",
       "      <td>161.6325</td>\n",
       "    </tr>\n",
       "    <tr>\n",
       "      <td>Dinner</td>\n",
       "      <td>18.78</td>\n",
       "      <td>3.00</td>\n",
       "      <td>2.0</td>\n",
       "      <td>2.8170</td>\n",
       "    </tr>\n",
       "    <tr>\n",
       "      <td rowspan=\"2\" valign=\"top\">Fri</td>\n",
       "      <td>Lunch</td>\n",
       "      <td>89.92</td>\n",
       "      <td>16.68</td>\n",
       "      <td>14.0</td>\n",
       "      <td>13.4880</td>\n",
       "    </tr>\n",
       "    <tr>\n",
       "      <td>Dinner</td>\n",
       "      <td>235.96</td>\n",
       "      <td>35.28</td>\n",
       "      <td>26.0</td>\n",
       "      <td>35.3940</td>\n",
       "    </tr>\n",
       "    <tr>\n",
       "      <td rowspan=\"2\" valign=\"top\">Sat</td>\n",
       "      <td>Lunch</td>\n",
       "      <td>NaN</td>\n",
       "      <td>NaN</td>\n",
       "      <td>NaN</td>\n",
       "      <td>NaN</td>\n",
       "    </tr>\n",
       "    <tr>\n",
       "      <td>Dinner</td>\n",
       "      <td>1778.40</td>\n",
       "      <td>260.40</td>\n",
       "      <td>219.0</td>\n",
       "      <td>266.7600</td>\n",
       "    </tr>\n",
       "    <tr>\n",
       "      <td rowspan=\"2\" valign=\"top\">Sun</td>\n",
       "      <td>Lunch</td>\n",
       "      <td>NaN</td>\n",
       "      <td>NaN</td>\n",
       "      <td>NaN</td>\n",
       "      <td>NaN</td>\n",
       "    </tr>\n",
       "    <tr>\n",
       "      <td>Dinner</td>\n",
       "      <td>1627.16</td>\n",
       "      <td>247.39</td>\n",
       "      <td>216.0</td>\n",
       "      <td>244.0740</td>\n",
       "    </tr>\n",
       "  </tbody>\n",
       "</table>\n",
       "</div>"
      ],
      "text/plain": [
       "             total_bill     tip   size     tip_t\n",
       "day  time                                       \n",
       "Thur Lunch      1077.55  168.83  150.0  161.6325\n",
       "     Dinner       18.78    3.00    2.0    2.8170\n",
       "Fri  Lunch        89.92   16.68   14.0   13.4880\n",
       "     Dinner      235.96   35.28   26.0   35.3940\n",
       "Sat  Lunch          NaN     NaN    NaN       NaN\n",
       "     Dinner     1778.40  260.40  219.0  266.7600\n",
       "Sun  Lunch          NaN     NaN    NaN       NaN\n",
       "     Dinner     1627.16  247.39  216.0  244.0740"
      ]
     },
     "execution_count": 11,
     "metadata": {},
     "output_type": "execute_result"
    }
   ],
   "source": [
    "# Split the data by day and time and sum the numerical values using groupby\n",
    "tips.groupby(['day', 'time']).sum()"
   ]
  },
  {
   "cell_type": "markdown",
   "metadata": {},
   "source": [
    "### Slice the Data by Gender and Smoker status\n",
    "\n",
    "Using Pandas[7] groupby function to slice the data by gender and smoker status, the following is observed:\n",
    "\n",
    "- The highest tips received were from male non smokers - 302 was received versus a target of 287.96.  \n",
    "- The second highest tips were from male smokers - 183.07 versus a target of 200.56.\n",
    "- The third highest were female non smokers - 149.77 versus 146.65.\n",
    "- The lowest tips received were from female smokers - 96.74 versus 88.99."
   ]
  },
  {
   "cell_type": "code",
   "execution_count": 12,
   "metadata": {},
   "outputs": [
    {
     "data": {
      "text/html": [
       "<div>\n",
       "<style scoped>\n",
       "    .dataframe tbody tr th:only-of-type {\n",
       "        vertical-align: middle;\n",
       "    }\n",
       "\n",
       "    .dataframe tbody tr th {\n",
       "        vertical-align: top;\n",
       "    }\n",
       "\n",
       "    .dataframe thead th {\n",
       "        text-align: right;\n",
       "    }\n",
       "</style>\n",
       "<table border=\"1\" class=\"dataframe\">\n",
       "  <thead>\n",
       "    <tr style=\"text-align: right;\">\n",
       "      <th></th>\n",
       "      <th></th>\n",
       "      <th>total_bill</th>\n",
       "      <th>tip</th>\n",
       "      <th>size</th>\n",
       "      <th>tip_t</th>\n",
       "    </tr>\n",
       "    <tr>\n",
       "      <th>sex</th>\n",
       "      <th>smoker</th>\n",
       "      <th></th>\n",
       "      <th></th>\n",
       "      <th></th>\n",
       "      <th></th>\n",
       "    </tr>\n",
       "  </thead>\n",
       "  <tbody>\n",
       "    <tr>\n",
       "      <td rowspan=\"2\" valign=\"top\">Male</td>\n",
       "      <td>Yes</td>\n",
       "      <td>1337.07</td>\n",
       "      <td>183.07</td>\n",
       "      <td>150</td>\n",
       "      <td>200.5605</td>\n",
       "    </tr>\n",
       "    <tr>\n",
       "      <td>No</td>\n",
       "      <td>1919.75</td>\n",
       "      <td>302.00</td>\n",
       "      <td>263</td>\n",
       "      <td>287.9625</td>\n",
       "    </tr>\n",
       "    <tr>\n",
       "      <td rowspan=\"2\" valign=\"top\">Female</td>\n",
       "      <td>Yes</td>\n",
       "      <td>593.27</td>\n",
       "      <td>96.74</td>\n",
       "      <td>74</td>\n",
       "      <td>88.9905</td>\n",
       "    </tr>\n",
       "    <tr>\n",
       "      <td>No</td>\n",
       "      <td>977.68</td>\n",
       "      <td>149.77</td>\n",
       "      <td>140</td>\n",
       "      <td>146.6520</td>\n",
       "    </tr>\n",
       "  </tbody>\n",
       "</table>\n",
       "</div>"
      ],
      "text/plain": [
       "               total_bill     tip  size     tip_t\n",
       "sex    smoker                                    \n",
       "Male   Yes        1337.07  183.07   150  200.5605\n",
       "       No         1919.75  302.00   263  287.9625\n",
       "Female Yes         593.27   96.74    74   88.9905\n",
       "       No          977.68  149.77   140  146.6520"
      ]
     },
     "execution_count": 12,
     "metadata": {},
     "output_type": "execute_result"
    }
   ],
   "source": [
    "# Split the data by gender and smoker using groupby.\n",
    "tips.groupby(['sex', 'smoker']).sum()"
   ]
  },
  {
   "cell_type": "markdown",
   "metadata": {},
   "source": [
    "### Slice the Data by Group size\n",
    "\n",
    "Using Pandas[7] groupby function to slice the data by group size, the following is observed:\n",
    "Most of the tips received are from party sizes of 2 - 402.84 was received in tips versus a target of 384.88.  Behind this are groups of 4 tipping 153.01 versus target of 158.8.  The restaurant is therefore attractive to couples or it is unable to cater effectively for larger group sizes."
   ]
  },
  {
   "cell_type": "code",
   "execution_count": 13,
   "metadata": {},
   "outputs": [
    {
     "data": {
      "text/html": [
       "<div>\n",
       "<style scoped>\n",
       "    .dataframe tbody tr th:only-of-type {\n",
       "        vertical-align: middle;\n",
       "    }\n",
       "\n",
       "    .dataframe tbody tr th {\n",
       "        vertical-align: top;\n",
       "    }\n",
       "\n",
       "    .dataframe thead th {\n",
       "        text-align: right;\n",
       "    }\n",
       "</style>\n",
       "<table border=\"1\" class=\"dataframe\">\n",
       "  <thead>\n",
       "    <tr style=\"text-align: right;\">\n",
       "      <th></th>\n",
       "      <th>total_bill</th>\n",
       "      <th>tip</th>\n",
       "      <th>tip_t</th>\n",
       "    </tr>\n",
       "    <tr>\n",
       "      <th>size</th>\n",
       "      <th></th>\n",
       "      <th></th>\n",
       "      <th></th>\n",
       "    </tr>\n",
       "  </thead>\n",
       "  <tbody>\n",
       "    <tr>\n",
       "      <td>1</td>\n",
       "      <td>28.97</td>\n",
       "      <td>5.75</td>\n",
       "      <td>4.3455</td>\n",
       "    </tr>\n",
       "    <tr>\n",
       "      <td>2</td>\n",
       "      <td>2565.89</td>\n",
       "      <td>402.84</td>\n",
       "      <td>384.8835</td>\n",
       "    </tr>\n",
       "    <tr>\n",
       "      <td>3</td>\n",
       "      <td>884.55</td>\n",
       "      <td>128.94</td>\n",
       "      <td>132.6825</td>\n",
       "    </tr>\n",
       "    <tr>\n",
       "      <td>4</td>\n",
       "      <td>1058.70</td>\n",
       "      <td>153.01</td>\n",
       "      <td>158.8050</td>\n",
       "    </tr>\n",
       "    <tr>\n",
       "      <td>5</td>\n",
       "      <td>150.34</td>\n",
       "      <td>20.14</td>\n",
       "      <td>22.5510</td>\n",
       "    </tr>\n",
       "    <tr>\n",
       "      <td>6</td>\n",
       "      <td>139.32</td>\n",
       "      <td>20.90</td>\n",
       "      <td>20.8980</td>\n",
       "    </tr>\n",
       "  </tbody>\n",
       "</table>\n",
       "</div>"
      ],
      "text/plain": [
       "      total_bill     tip     tip_t\n",
       "size                              \n",
       "1          28.97    5.75    4.3455\n",
       "2        2565.89  402.84  384.8835\n",
       "3         884.55  128.94  132.6825\n",
       "4        1058.70  153.01  158.8050\n",
       "5         150.34   20.14   22.5510\n",
       "6         139.32   20.90   20.8980"
      ]
     },
     "execution_count": 13,
     "metadata": {},
     "output_type": "execute_result"
    }
   ],
   "source": [
    "tips.groupby(['size']).sum()"
   ]
  },
  {
   "cell_type": "markdown",
   "metadata": {},
   "source": [
    "###  Regression Summary\n",
    "##### Main observations:\n",
    "\n",
    " - Highest volume of groups and tips were received Saturday night.  \n",
    " - Highest volume of groups and tips were received from Male non smokers\n",
    " - Highest volume of groups and tips were from groups of 2\n",
    " - No one was served lunch Saturday or Sunday meaning the server received no tips. \n",
    "  \n",
    "Adding variables provides further insights into the dataset but it has also raised more questions.  Total bill and tip are clearly correlated but can it be definitively stated that the variables contribute to the variation in tip amount?  The categorisation of gender and smoker status is not definitive as the breakdown within those populations is not given.  The restaurant is popular for groups of 2 for Thursday lunch and Saturday and Sunday dinners. It seems likely that external factors are contributing.\n",
    "\n"
   ]
  },
  {
   "cell_type": "markdown",
   "metadata": {},
   "source": [
    "## Analysis of the Tips Dataset"
   ]
  },
  {
   "cell_type": "markdown",
   "metadata": {},
   "source": [
    "Matplotlib's describe() summarises the dataset well and confirms that the cultural expectation of 15% is achieved overall.  There is variation in tip % received by the server.  Can the server use this data to determine how to maximise their tips i.e. what customers should be targeted with excellent service especially on busy days?  The fundamental question is do any of the variables of gender, smoker status, group size, day or time impact tip amount?\n",
    "\n",
    "From the analysis above the highest tips are received from tables of 2 in the non smoking section on a Saturday night with a male paying.  However this conclusion is difficult to standover due to a number of factors that can be discounted:\n",
    "  \n",
    " - The data does not provide a breakdown of gender within the groups therefore it cannot be categorically stated that gender has an impact.  The gender of the person who paid is recorded not the breakdown of the group.  To include this only would not be representative of the total population.\n",
    " - Likewise smoker status - the breakdown of smokers and non smokers within the group is not provided. Also perhaps a number groups had to sit in the smoking section due to non availability of tables in the non smoking section and vice versa. \n",
    " - Saturday night will always be the busiest night for the majority of restaurants resulting in the highest tips. \n",
    " \n",
    "The only remaining variable with a definitive correlation is group size.\n",
    " \n",
    "Size - the only variable that we can hone in on group size.  The highest tips were received from groups of 2 but the majority of groups are 2 people.  The restaurant appears to attract couples. It is not a fair comparison."
   ]
  },
  {
   "cell_type": "markdown",
   "metadata": {},
   "source": [
    "#### Group Size by Day\n",
    "Does size of group influence tip amount? The highest tips were received from groups of 2 but the majority of groups are 2 people.  The data is not definitive."
   ]
  },
  {
   "cell_type": "code",
   "execution_count": 14,
   "metadata": {
    "scrolled": true
   },
   "outputs": [
    {
     "data": {
      "text/plain": [
       "<matplotlib.axes._subplots.AxesSubplot at 0x2867e876488>"
      ]
     },
     "execution_count": 14,
     "metadata": {},
     "output_type": "execute_result"
    },
    {
     "data": {
      "image/png": "[encoded data removed]",
      "text/plain": [
       "<Figure size 432x288 with 1 Axes>"
      ]
     },
     "metadata": {},
     "output_type": "display_data"
    }
   ],
   "source": [
    "# Using Seaborn Countplot, view group size by day\n",
    "sns.countplot(x='day',hue='size' ,data=tips)"
   ]
  },
  {
   "cell_type": "markdown",
   "metadata": {},
   "source": [
    "### Comparative Analysis"
   ]
  },
  {
   "cell_type": "markdown",
   "metadata": {},
   "source": [
    "A publication analysing the tips dataset (Ggobi.org[13]) found that the only important variable emerging was size -  as size increases, tiprate decreases.   Dicook.public [10]  came to the same conclusion.  However is it that clear cut?  Although groups of 2 paid higher tips, it is probable that service levels for groups of 2 was better.  The ratio of customers to the server is lower therefore the service is better. The influencing factor is not any of the categories provided in the tips data set but subjective factors. \n",
    " \n",
    "Researchgate[12] found that people tip only because of social and psychological motivations, and not because of strategic reasons and future service considerations to ensure good future service and social/psychological motivations.  This ties in with the desciptive and visual analysis above - the strength of the relationship is clear but it is quite feasible that the tip amount interacts with another unconsidered variable e.g. ambience.\n",
    "\n",
    "Service is subjective and relates to an overall experience. The controls in the dataset are the waiter and the restaurant. It is assumed that the same quality of food and service is provided to all customers which is difficult to achieve due to a variety of qualitative factors e.g. chef that is on duty, cleaning staff etc.  \n",
    "\n",
    "In order to provide the server with high tips is to provide feedback to the manager.   The key to higher revenue and tips is throughput i.e. customer numbers.  One key observation is that no one was served lunch Saturday or Sunday meaning the server received no tips. This is very odd given that weekends should be the busiest time for restaurants. It would seem that the restaurant is not attractive to young families or teenagers who would tend to go on outings at the weekend in particular at lunch.  It may be that the restaurant's business model needs to be reviewed to attract a wider variety of groups and staffed appropriately."
   ]
  },
  {
   "cell_type": "markdown",
   "metadata": {},
   "source": [
    "## Conclusion"
   ]
  },
  {
   "cell_type": "markdown",
   "metadata": {},
   "source": [
    "There is a definitive relationship between total bill and tip.  Customers view 15% as a target or guideline and then decide given their experience what amount they should leave as a tip.  Sex, smoker, time and day do provide insights into tipping behaviour but are not definitive.  Tipping is based on service not customer variables."
   ]
  },
  {
   "cell_type": "markdown",
   "metadata": {},
   "source": [
    "## References"
   ]
  },
  {
   "cell_type": "markdown",
   "metadata": {},
   "source": [
    " - [1] Python Software Foundation. Welcome to python.org.\n",
    "https://www.python.org/.\n",
    " - [2] GMIT. Quality assurance framework.\n",
    "https://www.gmit.ie/general/quality-assurance-framework.\n",
    " - [3] GitHub Guides. Mastering markdown.\n",
    "https://guides.github.com/features/mastering-markdown/.\n",
    " - [4] Project Jupyter. Project jupyter.\n",
    "https://jupyter.org/.\n",
    " - [5] Seaborn.\n",
    "https://seaborn.pydata.org/.\n",
    " - [6] Michael Waskom. Tips data set.\n",
    "https://github.com/mwaskom/seaborn-data/blob/master/tips.csv.\n",
    " - [7] Pandas Data Analysis library\n",
    " https://pandas.pydata.org.\n",
    " - [8] Tripadvisor\n",
    " https://www.tripadvisor.ie/Travel-g191-s606/United-States:Tipping.And.Etiquette.html\n",
    " - [9] Bryant, P. G. and Smith, M (1995)\n",
    " Bryant, P. G. and Smith, M (1995) Practical Data Analysis: Case Studies in Business Statistics. Homewood, IL: Richard D. Irwin Publishing\n",
    " - [10] Dicook.public.iastate.edu\n",
    " https://dicook.public.iastate.edu/stat503/05/cs-tips2.pdf\n",
    " - [11] Harvard Business Review\n",
    "  https://hbr.org/2015/11/a-refresher-on-regression-analysis\n",
    " - [12] Research gate https://www.researchgate.net/publication/227345007_Do_people_tip_because_of_psychological_or_strategic_motivations_An_empirical_analysis_of_restaurant_tipping\n",
    " - [13] Ggobi.org\n",
    "http://www.ggobi.org/book/chap-data.pdf"
   ]
  },
  {
   "cell_type": "markdown",
   "metadata": {},
   "source": [
    "## The End"
   ]
  }
 ],
 "metadata": {
  "celltoolbar": "Raw Cell Format",
  "kernelspec": {
   "display_name": "Python 3",
   "language": "python",
   "name": "python3"
  },
  "language_info": {
   "codemirror_mode": {
    "name": "ipython",
    "version": 3
   },
   "file_extension": ".py",
   "mimetype": "text/x-python",
   "name": "python",
   "nbconvert_exporter": "python",
   "pygments_lexer": "ipython3",
   "version": "3.7.4"
  }
 },
 "nbformat": 4,
 "nbformat_minor": 4
}
