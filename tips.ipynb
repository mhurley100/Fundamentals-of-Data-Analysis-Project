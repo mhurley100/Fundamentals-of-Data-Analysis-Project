{
 "cells": [
  {
   "cell_type": "markdown",
   "metadata": {},
   "source": [
    "### Fundamentals of Data Analysis Assessment 2019\n",
    "#### Tips Dataset \n",
    " \n",
    " "
   ]
  },
  {
   "cell_type": "markdown",
   "metadata": {},
   "source": [
    "Import libraries (numpy, pandas, seaborn, csv and matplotlib)"
   ]
  },
  {
   "cell_type": "code",
   "execution_count": 1,
   "metadata": {},
   "outputs": [],
   "source": [
    "import numpy as np"
   ]
  },
  {
   "cell_type": "code",
   "execution_count": 2,
   "metadata": {},
   "outputs": [],
   "source": [
    "import matplotlib as plt"
   ]
  },
  {
   "cell_type": "code",
   "execution_count": 3,
   "metadata": {},
   "outputs": [],
   "source": [
    "import seaborn as sns"
   ]
  },
  {
   "cell_type": "code",
   "execution_count": 4,
   "metadata": {},
   "outputs": [],
   "source": [
    "import pandas as pd"
   ]
  },
  {
   "cell_type": "code",
   "execution_count": 5,
   "metadata": {},
   "outputs": [],
   "source": [
    "import csv"
   ]
  },
  {
   "cell_type": "markdown",
   "metadata": {},
   "source": [
    "Read the tips csv file"
   ]
  },
  {
   "cell_type": "code",
   "execution_count": 6,
   "metadata": {
    "scrolled": true
   },
   "outputs": [],
   "source": [
    "tips = pd.read_csv('tips.csv')"
   ]
  },
  {
   "cell_type": "markdown",
   "metadata": {},
   "source": [
    "Add tips % to make more relevant"
   ]
  },
  {
   "cell_type": "code",
   "execution_count": 7,
   "metadata": {},
   "outputs": [],
   "source": [
    "tips[\"tip_%\"] = tips[\"tip\"] / tips[\"total_bill\"]"
   ]
  },
  {
   "cell_type": "markdown",
   "metadata": {},
   "source": [
    "Use pandas describe to analyse the dataset"
   ]
  },
  {
   "cell_type": "code",
   "execution_count": 8,
   "metadata": {},
   "outputs": [
    {
     "name": "stdout",
     "output_type": "stream",
     "text": [
      "       total_bill         tip        size       tip_%\n",
      "count  244.000000  244.000000  244.000000  244.000000\n",
      "mean    19.785943    2.998279    2.569672    0.160803\n",
      "std      8.902412    1.383638    0.951100    0.061072\n",
      "min      3.070000    1.000000    1.000000    0.035638\n",
      "25%     13.347500    2.000000    2.000000    0.129127\n",
      "50%     17.795000    2.900000    2.000000    0.154770\n",
      "75%     24.127500    3.562500    3.000000    0.191475\n",
      "max     50.810000   10.000000    6.000000    0.710345\n"
     ]
    }
   ],
   "source": [
    "print(tips.describe())"
   ]
  },
  {
   "cell_type": "code",
   "execution_count": 9,
   "metadata": {},
   "outputs": [
    {
     "name": "stdout",
     "output_type": "stream",
     "text": [
      "               total_bill     tip  size      tip_%\n",
      "sex    smoker                                     \n",
      "Female No          977.68  149.77   140   8.473732\n",
      "       Yes         593.27   96.74    74   6.010962\n",
      "Male   No         1919.75  302.00   263  15.584865\n",
      "       Yes        1337.07  183.07   150   9.166271\n"
     ]
    }
   ],
   "source": [
    "print(tips.groupby(['sex', 'smoker']).sum())"
   ]
  },
  {
   "cell_type": "code",
   "execution_count": 10,
   "metadata": {},
   "outputs": [
    {
     "name": "stdout",
     "output_type": "stream",
     "text": [
      "time    day \n",
      "Dinner  Fri     12\n",
      "        Sat     87\n",
      "        Sun     76\n",
      "        Thur     1\n",
      "Lunch   Fri      7\n",
      "        Thur    61\n",
      "dtype: int64\n"
     ]
    }
   ],
   "source": [
    "print(tips.groupby(['time', 'day']).size())"
   ]
  },
  {
   "cell_type": "code",
   "execution_count": 12,
   "metadata": {},
   "outputs": [
    {
     "name": "stdout",
     "output_type": "stream",
     "text": [
      "               total_bill     tip  size      tip_%   tips_pct\n",
      "sex    smoker                                                \n",
      "Female No          977.68  149.77   140   8.473732   8.473732\n",
      "       Yes         593.27   96.74    74   6.010962   6.010962\n",
      "Male   No         1919.75  302.00   263  15.584865  15.584865\n",
      "       Yes        1337.07  183.07   150   9.166271   9.166271\n"
     ]
    }
   ],
   "source": [
    "print(tips.groupby(['sex', 'smoker']).sum())"
   ]
  },
  {
   "cell_type": "code",
   "execution_count": null,
   "metadata": {},
   "outputs": [],
   "source": []
  }
 ],
 "metadata": {
  "kernelspec": {
   "display_name": "Python 3",
   "language": "python",
   "name": "python3"
  },
  "language_info": {
   "codemirror_mode": {
    "name": "ipython",
    "version": 3
   },
   "file_extension": ".py",
   "mimetype": "text/x-python",
   "name": "python",
   "nbconvert_exporter": "python",
   "pygments_lexer": "ipython3",
   "version": "3.7.3"
  }
 },
 "nbformat": 4,
 "nbformat_minor": 4
}
